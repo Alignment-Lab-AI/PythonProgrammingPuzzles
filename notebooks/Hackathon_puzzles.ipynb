{
 "cells": [
  {
   "cell_type": "markdown",
   "metadata": {},
   "source": [
    "# Puzzles from Microsoft Hackathon\n",
    "* The puzzles in this notebook were created during a hackathon at Microsoft, July 27-29, 2020.\n",
    "* The creators of these puzzles include github users: \n",
    "    [Adam Tauman Kalai](https://github.com/akalai),\n",
    "    [Alec Helbling](https://github.com/helblazer811),\n",
    "    [Alexander Vorobev](https://github.com/OnFireDolphin),\n",
    "    [Alexander Wei](https://github.com/aw31),\n",
    "    [Alexey Romanov](https://github.com/jgc128),\n",
    "    [Keith Battaochi](https://github.com/kbattocchi),\n",
    "    [Kodai Sudo](https://github.com/kouml),\n",
    "    [Maggie Hei](https://github.com/heimengqi),\n",
    "    [Mariia Mykhailova](https://github.com/tcNickolas),\n",
    "    [Misha Khodak](https://github.com/mkhodak),\n",
    "    [Monil Mehta](https://github.com/monilm2),\n",
    "    [Philip Rosenfield](https://github.com/philrosenfield),\n",
    "    [Qida Ma](https://github.com/JerryMa90),\n",
    "    [Raj Bhargava](https://github.com/rajbhargava),\n",
    "    [Rishi Jaiswal](https://github.com/nextquanta),\n",
    "    [Saikiran Mullaguri](https://github.com/sm947),\n",
    "    [Tal Schuster](https://github.com/TalSchuster), and\n",
    "    [Varsha Srinivasan](https://github.com/varsha2197)\n",
    "* For a shorter intro, and to see which puzzles the AI baselines solved, visit: https://aka.ms/python_puzzles"
   ]
  },
  {
   "cell_type": "code",
   "execution_count": 1,
   "metadata": {},
   "outputs": [],
   "source": [
    "from typing import List, Dict, Set, Tuple, Callable"
   ]
  },
  {
   "cell_type": "code",
   "execution_count": 2,
   "metadata": {
    "pycharm": {
     "name": "#%%\n"
    }
   },
   "outputs": [],
   "source": [
    "def begin(x): \n",
    "    return x[::-1] in 'We won kcahoots!' and x[0]=='h' and x[-1]=='w'"
   ]
  },
  {
   "cell_type": "code",
   "execution_count": 3,
   "metadata": {},
   "outputs": [
    {
     "data": {
      "text/plain": [
       "True"
      ]
     },
     "execution_count": 3,
     "metadata": {},
     "output_type": "execute_result"
    }
   ],
   "source": [
    "begin(\"hack now\")"
   ]
  },
  {
   "cell_type": "code",
   "execution_count": 4,
   "metadata": {
    "pycharm": {
     "name": "#%%\n"
    }
   },
   "outputs": [],
   "source": [
    "def backworlds(x: str):  \n",
    "    return 'Hello ' + x[::-1] == 'Hello world'"
   ]
  },
  {
   "cell_type": "code",
   "execution_count": 5,
   "metadata": {},
   "outputs": [
    {
     "data": {
      "text/plain": [
       "True"
      ]
     },
     "execution_count": 5,
     "metadata": {},
     "output_type": "execute_result"
    }
   ],
   "source": [
    "backworlds(\"world\"[::-1])"
   ]
  },
  {
   "cell_type": "code",
   "execution_count": 6,
   "metadata": {},
   "outputs": [],
   "source": [
    "def reversey(x, y):\n",
    "    assert len(x) >= 5\n",
    "    if len(x) != len(y):\n",
    "        return False\n",
    "    for i,j in zip(range(len(x)-1, -1, -1), y):\n",
    "        if x[i] != j:\n",
    "            return False\n",
    "    return True"
   ]
  },
  {
   "cell_type": "code",
   "execution_count": 7,
   "metadata": {},
   "outputs": [
    {
     "data": {
      "text/plain": [
       "True"
      ]
     },
     "execution_count": 7,
     "metadata": {},
     "output_type": "execute_result"
    }
   ],
   "source": [
    "reversey(\"apple\", \"elppa\")"
   ]
  },
  {
   "cell_type": "code",
   "execution_count": 8,
   "metadata": {},
   "outputs": [],
   "source": [
    "def hanoi(sol: List[Tuple[int, int]]):  \n",
    "    # @param sol: list of moves (i, j) meaning a move from stack i to j (i, j in [0, 1, 2]). \n",
    "    # See https://en.wikipedia.org/wiki/Tower_of_Hanoi\n",
    "    s = (list(range(8)), [], [])\n",
    "    return all(s[j].append(s[i].pop()) or sorted(s[j])==s[j] for i, j in sol) and s[0] == s[1]"
   ]
  },
  {
   "cell_type": "code",
   "execution_count": 9,
   "metadata": {},
   "outputs": [
    {
     "data": {
      "text/plain": [
       "True"
      ]
     },
     "execution_count": 9,
     "metadata": {},
     "output_type": "execute_result"
    }
   ],
   "source": [
    "def solve_hanoi(n, i=0, j=2):\n",
    "    if n==0:\n",
    "        return []\n",
    "    k = 3 - i - j\n",
    "    return solve_hanoi(n-1, i, k) + [(i, j)] + solve_hanoi(n-1, k, j)\n",
    "\n",
    "hanoi(solve_hanoi(8))"
   ]
  },
  {
   "cell_type": "code",
   "execution_count": 10,
   "metadata": {},
   "outputs": [],
   "source": [
    "def learn_slice(i: int):\n",
    "      return 'hacker'[-1] + 'microsoft'[i:] == 'roft'"
   ]
  },
  {
   "cell_type": "code",
   "execution_count": 11,
   "metadata": {},
   "outputs": [
    {
     "data": {
      "text/plain": [
       "True"
      ]
     },
     "execution_count": 11,
     "metadata": {},
     "output_type": "execute_result"
    }
   ],
   "source": [
    "learn_slice(-3)"
   ]
  },
  {
   "cell_type": "code",
   "execution_count": 12,
   "metadata": {},
   "outputs": [],
   "source": [
    "def learn_sort_key(key_func):\n",
    "    return sorted(range(10), key=key_func) == [0, 2, 4, 6, 8, 1, 3, 5, 7, 9]"
   ]
  },
  {
   "cell_type": "code",
   "execution_count": 13,
   "metadata": {},
   "outputs": [
    {
     "data": {
      "text/plain": [
       "True"
      ]
     },
     "execution_count": 13,
     "metadata": {},
     "output_type": "execute_result"
    }
   ],
   "source": [
    "learn_sort_key(lambda x: (x % 2, x))"
   ]
  },
  {
   "cell_type": "code",
   "execution_count": 14,
   "metadata": {},
   "outputs": [],
   "source": [
    "def learn_zip_star(x):\n",
    "    return list(zip(*x)) == [(1, 2, \"buckle my shoe\"), (3, 4, \"knock at the door\"), (5, 6, \"pick up sticks\")]"
   ]
  },
  {
   "cell_type": "code",
   "execution_count": 15,
   "metadata": {},
   "outputs": [
    {
     "data": {
      "text/plain": [
       "True"
      ]
     },
     "execution_count": 15,
     "metadata": {},
     "output_type": "execute_result"
    }
   ],
   "source": [
    "ans = zip(*[(1, 2, \"buckle my shoe\"), (3, 4, \"knock at the door\"), (5, 6, \"pick up sticks\")])\n",
    "learn_zip_star(ans)"
   ]
  },
  {
   "cell_type": "code",
   "execution_count": 16,
   "metadata": {},
   "outputs": [],
   "source": [
    "def learn_logical_and(n: int):\n",
    "    return n & (n + 1) == 0 and n > 2 ** 20"
   ]
  },
  {
   "cell_type": "code",
   "execution_count": 17,
   "metadata": {},
   "outputs": [
    {
     "data": {
      "text/plain": [
       "True"
      ]
     },
     "execution_count": 17,
     "metadata": {},
     "output_type": "execute_result"
    }
   ],
   "source": [
    "learn_logical_and(2 ** 21 - 1)"
   ]
  },
  {
   "cell_type": "code",
   "execution_count": 18,
   "metadata": {},
   "outputs": [],
   "source": [
    "def learn_io(fun):\n",
    "    import sys, io\n",
    "    original_stdout = sys.stdout\n",
    "    sys.stdout = io.StringIO()\n",
    "    fun()\n",
    "    content = sys.stdout.getvalue()\n",
    "    sys.stdout = original_stdout\n",
    "    return content[::-1] == 'I Am Writing Python!' and fun.isTrue() is True"
   ]
  },
  {
   "cell_type": "code",
   "execution_count": 19,
   "metadata": {},
   "outputs": [
    {
     "data": {
      "text/plain": [
       "True"
      ]
     },
     "execution_count": 19,
     "metadata": {},
     "output_type": "execute_result"
    }
   ],
   "source": [
    "def fun():\n",
    "    message = \"I Am Writing Python!\"\n",
    "    print(message[::-1], end=\"\")\n",
    "def isTrue():\n",
    "    return True\n",
    "fun.isTrue = isTrue\n",
    "learn_io(fun)"
   ]
  },
  {
   "cell_type": "code",
   "execution_count": 20,
   "metadata": {},
   "outputs": [],
   "source": [
    "def equationTest(x):\n",
    "    return x**2 == 1 + 3"
   ]
  },
  {
   "cell_type": "code",
   "execution_count": 21,
   "metadata": {},
   "outputs": [
    {
     "data": {
      "text/plain": [
       "True"
      ]
     },
     "execution_count": 21,
     "metadata": {},
     "output_type": "execute_result"
    }
   ],
   "source": [
    "equationTest(2)"
   ]
  },
  {
   "cell_type": "code",
   "execution_count": 22,
   "metadata": {},
   "outputs": [],
   "source": [
    "def symmetric(x: str):\n",
    "    return x == x[::-1] and len(x) == 5 and len(set(x)) == 2"
   ]
  },
  {
   "cell_type": "code",
   "execution_count": 23,
   "metadata": {},
   "outputs": [
    {
     "data": {
      "text/plain": [
       "True"
      ]
     },
     "execution_count": 23,
     "metadata": {},
     "output_type": "execute_result"
    }
   ],
   "source": [
    "symmetric(\"abbba\")"
   ]
  },
  {
   "cell_type": "code",
   "execution_count": 24,
   "metadata": {},
   "outputs": [],
   "source": [
    "def string123(x: str):\n",
    "    return x[::2] in x and x[::3] in x and len(set(x)) == 5"
   ]
  },
  {
   "cell_type": "code",
   "execution_count": 25,
   "metadata": {},
   "outputs": [
    {
     "data": {
      "text/plain": [
       "True"
      ]
     },
     "execution_count": 25,
     "metadata": {},
     "output_type": "execute_result"
    }
   ],
   "source": [
    "for n in range(26):\n",
    "    x = [chr(ord(\"A\") + i) for i in range(n)]\n",
    "    changed = True\n",
    "    while changed:\n",
    "        changed = False\n",
    "        for i in range(n):\n",
    "            for j in [2 * i, 3 * i]:\n",
    "                if j < n and x[i] != x[j]:\n",
    "                    changed = True\n",
    "                    x[j] = x[i] = min(x[i], x[j])\n",
    "    if len(set(x)) == 5:\n",
    "        break\n",
    "\n",
    "string123(\"\".join(x))"
   ]
  },
  {
   "cell_type": "code",
   "execution_count": 26,
   "metadata": {},
   "outputs": [],
   "source": [
    "def multiplication_with_junk(x: int):\n",
    "    return (x - 53243) * (x * x + 1) * (int(len('moo' + str(x)) % 234527 != 1)) * (1 - int((x > 1323413221) and len([d for d in range(1, x) if x % d == 0]) == 1)) == 0"
   ]
  },
  {
   "cell_type": "code",
   "execution_count": 27,
   "metadata": {},
   "outputs": [
    {
     "data": {
      "text/plain": [
       "True"
      ]
     },
     "execution_count": 27,
     "metadata": {},
     "output_type": "execute_result"
    }
   ],
   "source": [
    "multiplication_with_junk(53243)"
   ]
  },
  {
   "cell_type": "code",
   "execution_count": 28,
   "metadata": {},
   "outputs": [],
   "source": [
    "def maze_walker(p: List[Tuple[int, int]]):\n",
    "    b = [[0, 0, -1, -1], [-1, 0, 0, -1], [-1, 0, -1, 0], [-1, 0, -1, 1]]\n",
    "    \n",
    "    loc = (0,0)\n",
    "    for i,j in p:\n",
    "        assert (-1 <= i <= 1) and (-1 <= j <= 1)\n",
    "        loc = loc[0] + i, loc[1] + j\n",
    "        assert (0 <= loc[0] < 4) and (0 <= loc[1] < 4)\n",
    "        assert b[loc[0]][loc[1]] != -1\n",
    "        \n",
    "    return b[loc[0]][loc[1]] == 1"
   ]
  },
  {
   "cell_type": "code",
   "execution_count": 29,
   "metadata": {},
   "outputs": [
    {
     "data": {
      "text/plain": [
       "True"
      ]
     },
     "execution_count": 29,
     "metadata": {},
     "output_type": "execute_result"
    }
   ],
   "source": [
    "maze_walker([(0, 1), (1, 1), (1, 1), (1, 0)])"
   ]
  },
  {
   "cell_type": "code",
   "execution_count": 30,
   "metadata": {},
   "outputs": [],
   "source": [
    "def maze_runner(f: Callable):\n",
    "    from random import randint\n",
    "    import copy\n",
    "\n",
    "    # Init board\n",
    "    size = 3\n",
    "    b = [[0] * size for _ in range(size)]\n",
    "    for _ in range(size):\n",
    "        b[randint(0,size-1)][randint(0,size-1)] = -1\n",
    "    b[0][0] = 0\n",
    "    b[randint(0,size-1)][randint(0,size-1)] = 1\n",
    "\n",
    "    # play\n",
    "    loc = (0,0)\n",
    "    while b[loc[0]][loc[1]] != 1:\n",
    "        next_loc = f(copy.deepcopy(b), loc)\n",
    "        assert (0 <= next_loc[0] < size) and (0 <= next_loc[1] < size)\n",
    "        assert (-1 <= loc[0] - next_loc[0] <= 1) and (-1 <= loc[1] - next_loc[1] <= 1)\n",
    "\n",
    "        loc = next_loc\n",
    "        if b[loc[0]][loc[1]] == -1:\n",
    "            return False\n",
    "\n",
    "    return True"
   ]
  },
  {
   "cell_type": "code",
   "execution_count": 31,
   "metadata": {},
   "outputs": [
    {
     "data": {
      "text/plain": [
       "True"
      ]
     },
     "execution_count": 31,
     "metadata": {},
     "output_type": "execute_result"
    }
   ],
   "source": [
    "def solver(b, loc):\n",
    "    from random import randint\n",
    "    size = len(b)\n",
    "    new_loc = (loc[0] + randint(-1,1), loc[1] + randint(-1,1))\n",
    "    while not( 0 <= new_loc[0] < size) \\\n",
    "          or not( 0 <= new_loc[1] < size) \\\n",
    "          or b[new_loc[0]][new_loc[1]] == -1:\n",
    "        new_loc = (loc[0] + randint(0,1), loc[1] + randint(0,1))\n",
    "    return new_loc\n",
    "\n",
    "maze_runner(solver)"
   ]
  },
  {
   "cell_type": "code",
   "execution_count": 32,
   "metadata": {},
   "outputs": [],
   "source": [
    "def learn_decorators(x):\n",
    "    @x\n",
    "    def foo():\n",
    "        return 'I am hacking!'\n",
    "    return all(i for i in foo)"
   ]
  },
  {
   "cell_type": "code",
   "execution_count": 33,
   "metadata": {},
   "outputs": [
    {
     "data": {
      "text/plain": [
       "True"
      ]
     },
     "execution_count": 33,
     "metadata": {},
     "output_type": "execute_result"
    }
   ],
   "source": [
    "learn_decorators(lambda f: [])"
   ]
  },
  {
   "cell_type": "code",
   "execution_count": 34,
   "metadata": {},
   "outputs": [],
   "source": [
    "def linear_equation_with_junk(x: int):\n",
    "    return (x + (len(str(x) + 'moo') + x * x - 3 * sum([d for d in range(1, x) if x % d == 0]) - x / 4 + int(str(x)[::-1]))) == (3 * x - 1248 + (len(str(x) + 'moo') + x * x - 3 * sum([d for d in range(1, x) if x % d == 0]) - x / 4 + int(str(x)[::-1])))"
   ]
  },
  {
   "cell_type": "code",
   "execution_count": 35,
   "metadata": {},
   "outputs": [
    {
     "name": "stdout",
     "output_type": "stream",
     "text": [
      "624\n"
     ]
    },
    {
     "data": {
      "text/plain": [
       "True"
      ]
     },
     "execution_count": 35,
     "metadata": {},
     "output_type": "execute_result"
    }
   ],
   "source": [
    "for i in range(-1000, 1000):\n",
    "    try:\n",
    "        if linear_equation_with_junk(i):\n",
    "            print(i)\n",
    "            break\n",
    "    except:\n",
    "        pass\n",
    "        \n",
    "linear_equation_with_junk(i)"
   ]
  },
  {
   "cell_type": "code",
   "execution_count": 36,
   "metadata": {},
   "outputs": [],
   "source": [
    "def exact_diff(x: List[int]):\n",
    "    assert all([i > 0 for i in x])\n",
    "    return all([x[i] - x[i+2] == x[i+1] for i in range(4)])"
   ]
  },
  {
   "cell_type": "code",
   "execution_count": 37,
   "metadata": {},
   "outputs": [
    {
     "data": {
      "text/plain": [
       "True"
      ]
     },
     "execution_count": 37,
     "metadata": {},
     "output_type": "execute_result"
    }
   ],
   "source": [
    "exact_diff([1, 1, 2, 3, 5, 8, 13][::-1])"
   ]
  },
  {
   "cell_type": "code",
   "execution_count": 38,
   "metadata": {},
   "outputs": [],
   "source": [
    "def anti_pythagoras(s: Set[int]):\n",
    "    # https://en.wikipedia.org/wiki/Boolean_Pythagorean_triples_problem\n",
    "    squares = {i * i for i in range(3, 1000)}\n",
    "    triples = [(a, b, a + b) for a in squares for b in squares if a + b in squares]\n",
    "    return not any([(a in s) == (b in s) == (c in s) for a, b, c in triples])"
   ]
  },
  {
   "cell_type": "code",
   "execution_count": 39,
   "metadata": {},
   "outputs": [
    {
     "data": {
      "text/plain": [
       "True"
      ]
     },
     "execution_count": 39,
     "metadata": {},
     "output_type": "execute_result"
    }
   ],
   "source": [
    "N = 1000\n",
    "squares = {i * i for i in range(3, N)}\n",
    "triples = [(a, b, a + b) for a in squares for b in squares if a < b and a + b in squares]\n",
    "len(triples)\n",
    "import random\n",
    "s =  set()\n",
    "done = False\n",
    "while not done:\n",
    "    done = True\n",
    "    for a, b, c in triples:\n",
    "        if (a in s) == (b in s) == (c in s):\n",
    "            n = random.choice([a, b, c])\n",
    "            s.symmetric_difference_update({n})\n",
    "            done = False\n",
    "\n",
    "anti_pythagoras(s)"
   ]
  },
  {
   "cell_type": "code",
   "execution_count": 40,
   "metadata": {},
   "outputs": [],
   "source": [
    "def impossible_gt(x):\n",
    "    return x > x and x + 1 == x "
   ]
  },
  {
   "cell_type": "code",
   "execution_count": 41,
   "metadata": {},
   "outputs": [
    {
     "data": {
      "text/plain": [
       "True"
      ]
     },
     "execution_count": 41,
     "metadata": {},
     "output_type": "execute_result"
    }
   ],
   "source": [
    "class Var:\n",
    "    def __gt__(self, other):\n",
    "        return True\n",
    "    def __add__(self, other):\n",
    "        return 1\n",
    "    def __eq__(self, other):\n",
    "        return True\n",
    "bob = Var()\n",
    "impossible_gt(bob)"
   ]
  },
  {
   "cell_type": "code",
   "execution_count": 42,
   "metadata": {},
   "outputs": [],
   "source": [
    "def filterIntroduction(answer):\n",
    "    return list(filter(lambda x: x == 3, [3, 5, 3, 5, 4, 6])) == answer"
   ]
  },
  {
   "cell_type": "code",
   "execution_count": 43,
   "metadata": {},
   "outputs": [
    {
     "data": {
      "text/plain": [
       "True"
      ]
     },
     "execution_count": 43,
     "metadata": {},
     "output_type": "execute_result"
    }
   ],
   "source": [
    "filterIntroduction([3, 3])"
   ]
  },
  {
   "cell_type": "code",
   "execution_count": 44,
   "metadata": {},
   "outputs": [],
   "source": [
    "def reduceIntroduction(answer):\n",
    "    from functools import reduce\n",
    "    return reduce(lambda a, b: a + b + 1, [1, 2, 3, 4]) == answer"
   ]
  },
  {
   "cell_type": "code",
   "execution_count": 45,
   "metadata": {},
   "outputs": [
    {
     "data": {
      "text/plain": [
       "True"
      ]
     },
     "execution_count": 45,
     "metadata": {},
     "output_type": "execute_result"
    }
   ],
   "source": [
    "reduceIntroduction(13)"
   ]
  },
  {
   "cell_type": "code",
   "execution_count": 46,
   "metadata": {},
   "outputs": [],
   "source": [
    "def mapIntroduction(answer):\n",
    "    return list(map(lambda x: x * x, [0, 1, 2, 3])) == answer"
   ]
  },
  {
   "cell_type": "code",
   "execution_count": 47,
   "metadata": {},
   "outputs": [
    {
     "data": {
      "text/plain": [
       "True"
      ]
     },
     "execution_count": 47,
     "metadata": {},
     "output_type": "execute_result"
    }
   ],
   "source": [
    "mapIntroduction([0, 1, 4, 9])"
   ]
  },
  {
   "cell_type": "code",
   "execution_count": 48,
   "metadata": {},
   "outputs": [],
   "source": [
    "def isquine(f: Callable):\n",
    "    import inspect\n",
    "    return inspect.getsource(f).strip() == f()"
   ]
  },
  {
   "cell_type": "code",
   "execution_count": 49,
   "metadata": {},
   "outputs": [
    {
     "data": {
      "text/plain": [
       "True"
      ]
     },
     "execution_count": 49,
     "metadata": {},
     "output_type": "execute_result"
    }
   ],
   "source": [
    "def f(): return((lambda s:s%s)('def f(): return((lambda s:s%%s)(%r))'))\n",
    "isquine(f)"
   ]
  },
  {
   "cell_type": "code",
   "execution_count": 50,
   "metadata": {},
   "outputs": [],
   "source": [
    "def open_sesame(h):\n",
    "    import random\n",
    "    secret = random.random()\n",
    "    def sesame(x):\n",
    "        return x == secret\n",
    "    return sesame(h(sesame))"
   ]
  },
  {
   "cell_type": "code",
   "execution_count": 51,
   "metadata": {},
   "outputs": [
    {
     "data": {
      "text/plain": [
       "True"
      ]
     },
     "execution_count": 51,
     "metadata": {},
     "output_type": "execute_result"
    }
   ],
   "source": [
    "def h(s):\n",
    "    return s.__closure__[0].cell_contents\n",
    "\n",
    "open_sesame(h)"
   ]
  },
  {
   "cell_type": "code",
   "execution_count": 52,
   "metadata": {},
   "outputs": [],
   "source": [
    "def bit_quadratic(i):\n",
    "    return ~(i**2) == 134*i+4488"
   ]
  },
  {
   "cell_type": "code",
   "execution_count": 53,
   "metadata": {},
   "outputs": [
    {
     "data": {
      "text/plain": [
       "True"
      ]
     },
     "execution_count": 53,
     "metadata": {},
     "output_type": "execute_result"
    }
   ],
   "source": [
    "bit_quadratic(max([i for i in range(-1000, 1000) if bit_quadratic(i)]))"
   ]
  },
  {
   "cell_type": "code",
   "execution_count": 54,
   "metadata": {},
   "outputs": [],
   "source": [
    "def is_nondecreasing(x : List[int]):\n",
    "    return all([x[i] <= x[i+1] for i in range(len(x) - 1)]) and len(x) > 3"
   ]
  },
  {
   "cell_type": "code",
   "execution_count": 55,
   "metadata": {},
   "outputs": [
    {
     "data": {
      "text/plain": [
       "True"
      ]
     },
     "execution_count": 55,
     "metadata": {},
     "output_type": "execute_result"
    }
   ],
   "source": [
    "is_nondecreasing([1,2,3,4])"
   ]
  },
  {
   "cell_type": "code",
   "execution_count": 56,
   "metadata": {},
   "outputs": [],
   "source": [
    "def operatorOverloadIntro(answer1: int, answer2: int, answer3: int, answer4: bool):\n",
    "    class operatorsOverload:\n",
    "\n",
    "        def __init__(self, value = 5):\n",
    "            self.value = value\n",
    "\n",
    "        def __add__(self, other):\n",
    "            self.value += other\n",
    "\n",
    "        def __sub__(self, other):\n",
    "            self.value -= other\n",
    "\n",
    "        def __lt__(self, other):\n",
    "            return self.value < other.value\n",
    "\n",
    "\n",
    "    flag = False\n",
    "    op = operatorsOverload()\n",
    "    op2 = operatorsOverload(10)\n",
    "\n",
    "    op + 5\n",
    "    ans1 = op.value == answer1\n",
    "\n",
    "    op - 5\n",
    "    ans2 = op.value == answer2\n",
    "\n",
    "    op2 + 5\n",
    "    op2 - 5\n",
    "\n",
    "    ans3 = op2.value == answer3\n",
    "    ans4 = (op < op2) == answer4\n",
    "\n",
    "    return ans4 and ans3 and ans2 and ans1"
   ]
  },
  {
   "cell_type": "code",
   "execution_count": 57,
   "metadata": {},
   "outputs": [
    {
     "data": {
      "text/plain": [
       "True"
      ]
     },
     "execution_count": 57,
     "metadata": {},
     "output_type": "execute_result"
    }
   ],
   "source": [
    "operatorOverloadIntro(10,5,10,True)"
   ]
  },
  {
   "cell_type": "code",
   "execution_count": 58,
   "metadata": {},
   "outputs": [],
   "source": [
    "def different(x):\n",
    "    return x() == 12 and x() == False and x() == [1, 2, 3, 4, 5]"
   ]
  },
  {
   "cell_type": "code",
   "execution_count": 59,
   "metadata": {},
   "outputs": [
    {
     "data": {
      "text/plain": [
       "True"
      ]
     },
     "execution_count": 59,
     "metadata": {},
     "output_type": "execute_result"
    }
   ],
   "source": [
    "_count = -1\n",
    "def foo():\n",
    "    global _count\n",
    "    _count += 1\n",
    "    return [12, False, [1,2,3,4,5]][_count]\n",
    "\n",
    "different(foo)"
   ]
  },
  {
   "cell_type": "code",
   "execution_count": 60,
   "metadata": {},
   "outputs": [],
   "source": [
    "def raise_exception(x):\n",
    "    try:\n",
    "        x(12.54)\n",
    "        return False\n",
    "    except SomeRandomException:\n",
    "        return True\n",
    "    except:\n",
    "        return False"
   ]
  },
  {
   "cell_type": "code",
   "execution_count": 61,
   "metadata": {},
   "outputs": [
    {
     "data": {
      "text/plain": [
       "True"
      ]
     },
     "execution_count": 61,
     "metadata": {},
     "output_type": "execute_result"
    }
   ],
   "source": [
    "class SomeRandomException(Exception):\n",
    "    pass\n",
    "\n",
    "def foo(*args):\n",
    "    raise SomeRandomException\n",
    "\n",
    "raise_exception(foo)"
   ]
  },
  {
   "cell_type": "code",
   "execution_count": 62,
   "metadata": {},
   "outputs": [],
   "source": [
    "def is_heap(arr):\n",
    "    n = len(arr) - 1\n",
    "    def is_heap_helper(arr, i):\n",
    "        if i > int((n - 2) / 2):  \n",
    "            return True  \n",
    "        if(arr[i] >= arr[2 * i + 1] and \n",
    "           arr[i] >= arr[2 * i + 2] and \n",
    "           is_heap_helper(arr, 2 * i + 1) and\n",
    "           is_heap_helper(arr, 2 * i + 2)): \n",
    "            return True\n",
    "        return False\n",
    "    return len(arr) > 6 and is_heap_helper(arr, 0)"
   ]
  },
  {
   "cell_type": "code",
   "execution_count": 63,
   "metadata": {},
   "outputs": [
    {
     "data": {
      "text/plain": [
       "True"
      ]
     },
     "execution_count": 63,
     "metadata": {},
     "output_type": "execute_result"
    }
   ],
   "source": [
    "is_heap(list(range(10,0,-1)))"
   ]
  },
  {
   "cell_type": "code",
   "execution_count": 64,
   "metadata": {},
   "outputs": [],
   "source": [
    "def eight_queens_puzzle(sol: List[int]):\n",
    "    \"\"\"Place 8 queens in a chess board so that no two queens are attacking each other.\n",
    "    @param sol: an array the 8 vertical position of in the respective A-H columns.\"\"\"\n",
    "    assert sorted(sol) == list(range(8))\n",
    "    return  len({sol[i] + i for i in range(8)}) == len({sol[i] - i for i in range(8)}) == 8 "
   ]
  },
  {
   "cell_type": "code",
   "execution_count": 65,
   "metadata": {},
   "outputs": [
    {
     "data": {
      "text/plain": [
       "True"
      ]
     },
     "execution_count": 65,
     "metadata": {},
     "output_type": "execute_result"
    }
   ],
   "source": [
    "eight_queens_puzzle([4, 2, 0, 6, 1, 7, 5, 3])"
   ]
  },
  {
   "cell_type": "code",
   "execution_count": 66,
   "metadata": {},
   "outputs": [],
   "source": [
    "def bitwise_op(x: int, y: int):\n",
    "  assert x != 0 and y != 0\n",
    "  return x & y == 0 and x ^ y != 0"
   ]
  },
  {
   "cell_type": "code",
   "execution_count": 67,
   "metadata": {},
   "outputs": [
    {
     "name": "stdout",
     "output_type": "stream",
     "text": [
      "1 2\n"
     ]
    },
    {
     "data": {
      "text/plain": [
       "True"
      ]
     },
     "execution_count": 67,
     "metadata": {},
     "output_type": "execute_result"
    }
   ],
   "source": [
    "for x in range(1, 100):\n",
    "    for y in range(1, 100):\n",
    "        if bitwise_op(x, y):\n",
    "            print(x, y)\n",
    "            break\n",
    "    if bitwise_op(x, y):\n",
    "        break\n",
    "\n",
    "bitwise_op(x, y)"
   ]
  },
  {
   "cell_type": "code",
   "execution_count": 68,
   "metadata": {},
   "outputs": [],
   "source": [
    "def is_sorting(function):\n",
    "    from random import random\n",
    "    if function == sorted:\n",
    "        return False\n",
    "    #not rigorous enough testing\n",
    "    test_list = [random() for i in range(20)]\n",
    "    return function(test_list) == sorted(test_list)"
   ]
  },
  {
   "cell_type": "code",
   "execution_count": 69,
   "metadata": {},
   "outputs": [
    {
     "data": {
      "text/plain": [
       "True"
      ]
     },
     "execution_count": 69,
     "metadata": {},
     "output_type": "execute_result"
    }
   ],
   "source": [
    "is_sorting(lambda x: sorted(x))"
   ]
  },
  {
   "cell_type": "code",
   "execution_count": 70,
   "metadata": {},
   "outputs": [],
   "source": [
    "def pattern_assign(x: tuple):\n",
    "    a, (b, c) = x\n",
    "    return a + b + c == 10"
   ]
  },
  {
   "cell_type": "code",
   "execution_count": 71,
   "metadata": {},
   "outputs": [
    {
     "data": {
      "text/plain": [
       "True"
      ]
     },
     "execution_count": 71,
     "metadata": {},
     "output_type": "execute_result"
    }
   ],
   "source": [
    "pattern_assign((1, (3,6)))"
   ]
  },
  {
   "cell_type": "code",
   "execution_count": 72,
   "metadata": {},
   "outputs": [],
   "source": [
    "def parity(s: str):\n",
    "    return all(c in '01' for c in s) and s.count('1') % 2 == 1 and len(s) == 10"
   ]
  },
  {
   "cell_type": "code",
   "execution_count": 73,
   "metadata": {},
   "outputs": [
    {
     "data": {
      "text/plain": [
       "True"
      ]
     },
     "execution_count": 73,
     "metadata": {},
     "output_type": "execute_result"
    }
   ],
   "source": [
    "parity('0'*9 + '1')"
   ]
  },
  {
   "cell_type": "code",
   "execution_count": 74,
   "metadata": {},
   "outputs": [],
   "source": [
    "def divtest(x: int):\n",
    "    s = str(x)\n",
    "    return len(s) > 1 and int(s[-2:]) % 4 == 0 and ((int(s[:-1])- int(s[-1])*2) % 7 == 0)"
   ]
  },
  {
   "cell_type": "code",
   "execution_count": 75,
   "metadata": {},
   "outputs": [
    {
     "name": "stdout",
     "output_type": "stream",
     "text": [
      "28\n"
     ]
    },
    {
     "data": {
      "text/plain": [
       "True"
      ]
     },
     "execution_count": 75,
     "metadata": {},
     "output_type": "execute_result"
    }
   ],
   "source": [
    "for i in range(100):\n",
    "    if divtest(i):\n",
    "        break\n",
    "print(i)\n",
    "divtest(i)"
   ]
  },
  {
   "cell_type": "code",
   "execution_count": 76,
   "metadata": {},
   "outputs": [],
   "source": [
    "from typing import List\n",
    "def isgenfibo(x: List[int]):\n",
    "    return (len(x) > 2) and all(a + b == c for a, b, c in zip(x, x[1:], x[2:]))"
   ]
  },
  {
   "cell_type": "code",
   "execution_count": 77,
   "metadata": {},
   "outputs": [
    {
     "data": {
      "text/plain": [
       "True"
      ]
     },
     "execution_count": 77,
     "metadata": {},
     "output_type": "execute_result"
    }
   ],
   "source": [
    "isgenfibo([1, 3, 4, 7, 11, 18, 29, 47, 76, 123])"
   ]
  },
  {
   "cell_type": "code",
   "execution_count": 78,
   "metadata": {},
   "outputs": [],
   "source": [
    "# Present a set of num_people and num_days in a year \n",
    "# such that the probability of at least two people sharing\n",
    "# the same birthday gte than p = 0.6\n",
    "# Source: https://en.wikipedia.org/wiki/Birthday_problem\n",
    "def birthday_probability(n: int, d: int):\n",
    "    from math import exp\n",
    "    return (1 - exp(-n**2 / (2 * d))) >= 0.6"
   ]
  },
  {
   "cell_type": "code",
   "execution_count": 79,
   "metadata": {},
   "outputs": [
    {
     "data": {
      "text/plain": [
       "True"
      ]
     },
     "execution_count": 79,
     "metadata": {},
     "output_type": "execute_result"
    }
   ],
   "source": [
    "birthday_probability(366, 365)"
   ]
  },
  {
   "cell_type": "code",
   "execution_count": 80,
   "metadata": {},
   "outputs": [],
   "source": [
    "def and_puzzle(x: int):\n",
    "    return x & (x-1) == 0 and x > 1000"
   ]
  },
  {
   "cell_type": "code",
   "execution_count": 81,
   "metadata": {},
   "outputs": [
    {
     "data": {
      "text/plain": [
       "True"
      ]
     },
     "execution_count": 81,
     "metadata": {},
     "output_type": "execute_result"
    }
   ],
   "source": [
    "and_puzzle(2**20)"
   ]
  },
  {
   "cell_type": "code",
   "execution_count": 82,
   "metadata": {},
   "outputs": [],
   "source": [
    "def taxicab(a: int, b: int, c: int, d: int):\n",
    "    return min(a, b, c, d) > 0 and a < b and c < d and (a, b) != (c, d) and a ** 3 + b ** 3 == c **3 + d ** 3"
   ]
  },
  {
   "cell_type": "code",
   "execution_count": 83,
   "metadata": {},
   "outputs": [
    {
     "data": {
      "text/plain": [
       "True"
      ]
     },
     "execution_count": 83,
     "metadata": {},
     "output_type": "execute_result"
    }
   ],
   "source": [
    "taxicab(1, 12, 9, 10)"
   ]
  },
  {
   "cell_type": "code",
   "execution_count": 84,
   "metadata": {},
   "outputs": [],
   "source": [
    "def math_puzzle(sublist: List[int]):\n",
    "    import math\n",
    "    return [str(val) for val in sublist] == [str(val)[::-1]  for val in sublist] and [str((int(math.sqrt(val)+0.5))**2) for val in sublist] == [str(val)  for val in sublist] and min(sublist)>=4 and max(sublist)<=1000"
   ]
  },
  {
   "cell_type": "code",
   "execution_count": 85,
   "metadata": {},
   "outputs": [
    {
     "data": {
      "text/plain": [
       "True"
      ]
     },
     "execution_count": 85,
     "metadata": {},
     "output_type": "execute_result"
    }
   ],
   "source": [
    "math_puzzle([9])"
   ]
  },
  {
   "cell_type": "code",
   "execution_count": 86,
   "metadata": {},
   "outputs": [],
   "source": [
    "def intransitive_dice(dice:List[List[int]]):\n",
    "    def beats(d1, d2):\n",
    "        return sum(a > b for a in d1 for b in d2) > sum(b > a for a in d1 for b in d2)\n",
    "    d1,d2,d3 = dice\n",
    "    return all(len(d) == 6 and set(d) <= set([1,2,3,4,5,6]) for d in dice) and beats(d1,d2) and beats(d2,d3) and beats(d3,d1)"
   ]
  },
  {
   "cell_type": "code",
   "execution_count": 87,
   "metadata": {},
   "outputs": [
    {
     "name": "stdout",
     "output_type": "stream",
     "text": [
      "374 [[6, 3, 6, 1, 5, 2], [3, 4, 4, 1, 5, 6], [6, 3, 1, 6, 4, 3]]\n"
     ]
    },
    {
     "data": {
      "text/plain": [
       "True"
      ]
     },
     "execution_count": 87,
     "metadata": {},
     "output_type": "execute_result"
    }
   ],
   "source": [
    "import random\n",
    "random.seed(0)\n",
    "for attempt in range(1000):\n",
    "    dice = [[random.randint(1, 6) for i in range(6)] for j in range(3)]\n",
    "    if intransitive_dice(dice):\n",
    "        print(attempt, dice)\n",
    "        break\n",
    "\n",
    "intransitive_dice(dice)"
   ]
  },
  {
   "cell_type": "code",
   "execution_count": 88,
   "metadata": {},
   "outputs": [],
   "source": [
    "def learn_set(x: List[int]):\n",
    "    return len(set(x)) != len(x) "
   ]
  },
  {
   "cell_type": "code",
   "execution_count": 89,
   "metadata": {},
   "outputs": [
    {
     "data": {
      "text/plain": [
       "True"
      ]
     },
     "execution_count": 89,
     "metadata": {},
     "output_type": "execute_result"
    }
   ],
   "source": [
    "learn_set([1,1])"
   ]
  },
  {
   "cell_type": "code",
   "execution_count": 90,
   "metadata": {},
   "outputs": [],
   "source": [
    "def learn_tuple(x: List[Tuple[int,int]]):\n",
    "    return set([(b,a) for a,b in x]) == set(x) "
   ]
  },
  {
   "cell_type": "code",
   "execution_count": 91,
   "metadata": {},
   "outputs": [
    {
     "data": {
      "text/plain": [
       "True"
      ]
     },
     "execution_count": 91,
     "metadata": {},
     "output_type": "execute_result"
    }
   ],
   "source": [
    "learn_tuple([])"
   ]
  },
  {
   "cell_type": "code",
   "execution_count": 92,
   "metadata": {},
   "outputs": [],
   "source": [
    "def range_step(x: str):\n",
    "    return [x[i] for i in range(0, 6, 2)] == ['f', 'u', 'n']"
   ]
  },
  {
   "cell_type": "code",
   "execution_count": 93,
   "metadata": {},
   "outputs": [
    {
     "data": {
      "text/plain": [
       "True"
      ]
     },
     "execution_count": 93,
     "metadata": {},
     "output_type": "execute_result"
    }
   ],
   "source": [
    "range_step(\"ffuunny\")"
   ]
  },
  {
   "cell_type": "code",
   "execution_count": 94,
   "metadata": {},
   "outputs": [],
   "source": [
    "def define_fixpoint(fix):\n",
    "    factorial = fix(lambda f: lambda x: x * f(x-1) if x else 1)\n",
    "    fib = fix(lambda f: lambda x: 1 if x <= 1 else f(x-1) + f(x-2))\n",
    "    return [factorial(i) for i in range(7)] == [1, 1, 2, 6, 24, 120, 720] and [fib(i) for i in range(7)] == [1, 1, 2, 3, 5, 8, 13]"
   ]
  },
  {
   "cell_type": "code",
   "execution_count": 95,
   "metadata": {},
   "outputs": [
    {
     "data": {
      "text/plain": [
       "True"
      ]
     },
     "execution_count": 95,
     "metadata": {},
     "output_type": "execute_result"
    }
   ],
   "source": [
    "def fixpoint(g):\n",
    "    def helper(x):\n",
    "        return g(helper)(x)\n",
    "    return helper\n",
    "\n",
    "define_fixpoint(fixpoint)"
   ]
  },
  {
   "cell_type": "code",
   "execution_count": 96,
   "metadata": {},
   "outputs": [],
   "source": [
    "def range_start(x: str):\n",
    "    return [x[i] for i in range(1, 4)] == ['f', 'u', 'n']"
   ]
  },
  {
   "cell_type": "code",
   "execution_count": 97,
   "metadata": {},
   "outputs": [
    {
     "data": {
      "text/plain": [
       "True"
      ]
     },
     "execution_count": 97,
     "metadata": {},
     "output_type": "execute_result"
    }
   ],
   "source": [
    "range_start(\"!fun\")"
   ]
  },
  {
   "cell_type": "code",
   "execution_count": 98,
   "metadata": {},
   "outputs": [],
   "source": [
    "def range_negative(x: str):\n",
    "    return [x[i] for i in range(3, -5, -3)] == ['f', 'u', 'n']"
   ]
  },
  {
   "cell_type": "code",
   "execution_count": 99,
   "metadata": {},
   "outputs": [
    {
     "data": {
      "text/plain": [
       "True"
      ]
     },
     "execution_count": 99,
     "metadata": {},
     "output_type": "execute_result"
    }
   ],
   "source": [
    "range_negative(\"un f\")"
   ]
  },
  {
   "cell_type": "code",
   "execution_count": 100,
   "metadata": {},
   "outputs": [],
   "source": [
    "def sudoku(sol: List[List[int]]):\n",
    "    \"\"\"Play a successful game of sudoku.\n",
    "    @param sol: a list of nine lists, each of which is the respective row in the sudoku puzzle.\"\"\"\n",
    "    from itertools import product, combinations\n",
    "    assert len(sol) == 9 and all(len(i) == 9 for i in sol)\n",
    "    grouped_list = [i[j[0][0]:j[0][1]] for j in [y for y in product([z for z in combinations([_ for _ in range(0, 10, 3)], 2) if z[1] - z[0] == 3], repeat=2)] for i in sol[j[1][0]:j[1][1]]]\n",
    "    return (all(set(i) == {j for j in range(1, 10)} for i in sol)\n",
    "            and all(set(i[j] for i in sol) == {k for k in range(1, 10)} for j in range(9))\n",
    "            and all(set(grouped_list[3 * x] + grouped_list[3 * x + 1] + grouped_list[3 * x + 2]) == {j for j in range(1, 10)} for x in range(3)))"
   ]
  },
  {
   "cell_type": "code",
   "execution_count": 101,
   "metadata": {},
   "outputs": [
    {
     "data": {
      "text/plain": [
       "True"
      ]
     },
     "execution_count": 101,
     "metadata": {},
     "output_type": "execute_result"
    }
   ],
   "source": [
    "sudoku([[4,6,7,9,2,1,3,5,8],[8,9,5,4,7,3,2,6,1],[2,3,1,8,6,5,7,4,9],\n",
    "        [5,1,3,6,9,8,4,2,7],[9,2,8,7,5,4,6,1,3],[7,4,6,1,3,2,9,8,5],\n",
    "        [3,5,4,2,8,7,1,9,6],[1,8,9,3,4,6,5,7,2],[6,7,2,5,1,9,8,3,4]])"
   ]
  },
  {
   "cell_type": "code",
   "execution_count": 102,
   "metadata": {},
   "outputs": [],
   "source": [
    "def learn_itemgetter(x: List):\n",
    "    from operator import itemgetter\n",
    "    from typing import List\n",
    "    return min(enumerate(x), key=itemgetter(1))[0] == 5"
   ]
  },
  {
   "cell_type": "code",
   "execution_count": 103,
   "metadata": {},
   "outputs": [
    {
     "data": {
      "text/plain": [
       "True"
      ]
     },
     "execution_count": 103,
     "metadata": {},
     "output_type": "execute_result"
    }
   ],
   "source": [
    "learn_itemgetter([5, 4, 3, 2, 1, 0])"
   ]
  },
  {
   "cell_type": "code",
   "execution_count": 104,
   "metadata": {},
   "outputs": [],
   "source": [
    "def sum_and_div(a: int, b: int, c: int):\n",
    "    return a + b + c == 3 and b / (a + c) == 2"
   ]
  },
  {
   "cell_type": "code",
   "execution_count": 105,
   "metadata": {},
   "outputs": [
    {
     "data": {
      "text/plain": [
       "True"
      ]
     },
     "execution_count": 105,
     "metadata": {},
     "output_type": "execute_result"
    }
   ],
   "source": [
    "sum_and_div(0, 2, 1)"
   ]
  },
  {
   "cell_type": "code",
   "execution_count": 106,
   "metadata": {},
   "outputs": [],
   "source": [
    "def find_permutations(perms:Callable[[int], List[Tuple[int, ...]]]):\n",
    "    from math import factorial\n",
    "    return all(len(set(perms(i))) == factorial(i) and all(sorted(p) == list(range(i)) for p in perms(i)) for i in range(5))"
   ]
  },
  {
   "cell_type": "code",
   "execution_count": 107,
   "metadata": {},
   "outputs": [
    {
     "data": {
      "text/plain": [
       "True"
      ]
     },
     "execution_count": 107,
     "metadata": {},
     "output_type": "execute_result"
    }
   ],
   "source": [
    "from itertools import permutations\n",
    "find_permutations(lambda n: list(permutations(range(n))))"
   ]
  },
  {
   "cell_type": "code",
   "execution_count": 108,
   "metadata": {},
   "outputs": [],
   "source": [
    "def sum_and_mul(a: int, b: int, c: int):\n",
    "    return a + b + c == 10 and a * (b - c) == 20"
   ]
  },
  {
   "cell_type": "code",
   "execution_count": 109,
   "metadata": {},
   "outputs": [
    {
     "data": {
      "text/plain": [
       "True"
      ]
     },
     "execution_count": 109,
     "metadata": {},
     "output_type": "execute_result"
    }
   ],
   "source": [
    "sum_and_mul(2, 9, -1)"
   ]
  },
  {
   "cell_type": "code",
   "execution_count": 110,
   "metadata": {},
   "outputs": [],
   "source": [
    "def learn_try_except(x):\n",
    "    try:\n",
    "        output = x[1] and False\n",
    "    except KeyError as e:\n",
    "        output = bool(e)\n",
    "    except:\n",
    "        output = False\n",
    "    finally:\n",
    "        return output"
   ]
  },
  {
   "cell_type": "code",
   "execution_count": 111,
   "metadata": {},
   "outputs": [
    {
     "data": {
      "text/plain": [
       "True"
      ]
     },
     "execution_count": 111,
     "metadata": {},
     "output_type": "execute_result"
    }
   ],
   "source": [
    "learn_try_except({})"
   ]
  },
  {
   "cell_type": "code",
   "execution_count": 112,
   "metadata": {},
   "outputs": [],
   "source": [
    "def sum_and_square(a: int, b: int):\n",
    "    return a + b + a == 10 and a * a == 49"
   ]
  },
  {
   "cell_type": "code",
   "execution_count": 113,
   "metadata": {},
   "outputs": [
    {
     "data": {
      "text/plain": [
       "True"
      ]
     },
     "execution_count": 113,
     "metadata": {},
     "output_type": "execute_result"
    }
   ],
   "source": [
    "sum_and_square(7, -4)"
   ]
  },
  {
   "cell_type": "code",
   "execution_count": 114,
   "metadata": {},
   "outputs": [],
   "source": [
    "def sequence(x):\n",
    "    return all([x[i] + x[i-1] == x[i+1] for i in range(1, 99)])"
   ]
  },
  {
   "cell_type": "code",
   "execution_count": 115,
   "metadata": {},
   "outputs": [
    {
     "data": {
      "text/plain": [
       "True"
      ]
     },
     "execution_count": 115,
     "metadata": {},
     "output_type": "execute_result"
    }
   ],
   "source": [
    "sequence([0]*200)"
   ]
  },
  {
   "cell_type": "code",
   "execution_count": 116,
   "metadata": {},
   "outputs": [],
   "source": [
    "def sublist_puzzle(sublist: List[int]):\n",
    "    import math\n",
    "    return [str(val) for val in sublist] == [str(val)[::-1]  for val in sublist] and [str((int(math.sqrt(val)+0.5))**2) for val in sublist] == [str(val)  for val in sublist] and min(sublist)>=4 and max(sublist)<=1000 and len(sublist)==3"
   ]
  },
  {
   "cell_type": "code",
   "execution_count": 117,
   "metadata": {},
   "outputs": [
    {
     "data": {
      "text/plain": [
       "True"
      ]
     },
     "execution_count": 117,
     "metadata": {},
     "output_type": "execute_result"
    }
   ],
   "source": [
    "sublist_puzzle([4,9,121])"
   ]
  },
  {
   "cell_type": "code",
   "execution_count": 118,
   "metadata": {},
   "outputs": [],
   "source": [
    "def div_by_three_regex(pat: str):\n",
    "    import re\n",
    "    return len(pat) < 300 and set(pat) <= set(\"0123456789|()*\") and all(i%3 == 0 if re.fullmatch(pat, str(i)) else i%3 != 0 for i in range(5000))"
   ]
  },
  {
   "cell_type": "code",
   "execution_count": 119,
   "metadata": {},
   "outputs": [
    {
     "data": {
      "text/plain": [
       "True"
      ]
     },
     "execution_count": 119,
     "metadata": {},
     "output_type": "execute_result"
    }
   ],
   "source": [
    "div_by_three_regex(\"((0|3|6|9)|(2|5|8)(0|3|6|9)*(1|4|7)|((1|4|7)|(2|5|8)(0|3|6|9)*(2|5|8))((0|3|6|9)|(1|4|7)(0|3|6|9)*(2|5|8))*(2|5|8)|((1|4|7)|(2|5|8)(0|3|6|9)*(2|5|8))((0|3|6|9)|(1|4|7)(0|3|6|9)*(2|5|8))*(1|4|7)(0|3|6|9)*(1|4|7))*\")"
   ]
  },
  {
   "cell_type": "code",
   "execution_count": 120,
   "metadata": {},
   "outputs": [
    {
     "data": {
      "text/plain": [
       "False"
      ]
     },
     "execution_count": 120,
     "metadata": {},
     "output_type": "execute_result"
    }
   ],
   "source": [
    "div_by_three_regex(r\"((0|3|6|9)|(2|5|8)(0|3|6|9)*(1|4|7)|(1|4|7)((0|3|6|9)|(1|4|7)(0|3|6|9)*(2|5|8))*(2|5|8)|(2|5|8)(0|3|6|9)*(2|5|8)((0|3|6|9)|(1|4|7)(0|3|6|9)*(2|5|8))*(2|5|8)|(1|4|7)((0|3|6|9)|(1|4|7)(0|3|6|9)*(2|5|8))*(1|4|7)(0|3|6|9)*(1|4|7)|(2|5|8)(0|3|6|9)*(2|5|8)((0|3|6|9)|(1|4|7)(0|3|6|9)*(2|5|8))*(1|4|7)(0|3|6|9)*(1|4|7))*\")"
   ]
  },
  {
   "cell_type": "code",
   "execution_count": 121,
   "metadata": {},
   "outputs": [],
   "source": [
    "def unlock5digitAirbnbDoorCodePuzzle(numStr):\n",
    "    unlockPattern = {\"0\": \"0\", \"1\": \"1\", \"8\": \"8\", \"6\": \"9\",  \"9\": \"6\"} \n",
    "    return all(b in unlockPattern and unlockPattern[b] == a for a, b in zip(numStr, numStr[::-1])) and int(numStr) in range(10000,100000)"
   ]
  },
  {
   "cell_type": "code",
   "execution_count": 122,
   "metadata": {},
   "outputs": [
    {
     "data": {
      "text/plain": [
       "True"
      ]
     },
     "execution_count": 122,
     "metadata": {},
     "output_type": "execute_result"
    }
   ],
   "source": [
    "unlock5digitAirbnbDoorCodePuzzle(\"18181\")"
   ]
  },
  {
   "cell_type": "code",
   "execution_count": 123,
   "metadata": {},
   "outputs": [],
   "source": [
    "def down_low(x: dict):\n",
    "    return [k for k in x.keys()] == [chr(n).lower() if chr(n).isupper() else chr(n).upper() for n in x.values()] and bool(x) and len(x)>3"
   ]
  },
  {
   "cell_type": "code",
   "execution_count": 124,
   "metadata": {},
   "outputs": [
    {
     "data": {
      "text/plain": [
       "True"
      ]
     },
     "execution_count": 124,
     "metadata": {},
     "output_type": "execute_result"
    }
   ],
   "source": [
    "down_low({\"a\": ord(\"A\"), \"b\": ord(\"B\"), \"c\": ord(\"C\"), \"d\": ord(\"D\")})"
   ]
  },
  {
   "cell_type": "code",
   "execution_count": 125,
   "metadata": {},
   "outputs": [],
   "source": [
    "def some_sum(f):\n",
    "    import random\n",
    "    pool = {random.randrange(10**6) for _ in range(100)}\n",
    "    target = sum(random.sample(pool, 98))\n",
    "    ans = f(pool.copy(), target)\n",
    "    return ans.issubset(pool) and sum(ans) == target"
   ]
  },
  {
   "cell_type": "code",
   "execution_count": 126,
   "metadata": {},
   "outputs": [
    {
     "data": {
      "text/plain": [
       "True"
      ]
     },
     "execution_count": 126,
     "metadata": {},
     "output_type": "execute_result"
    }
   ],
   "source": [
    "def solve_some_sum(pool, target):\n",
    "    tot = sum(pool)\n",
    "    for i in pool:\n",
    "        for j in pool:\n",
    "            if i + j + target == tot:\n",
    "                return pool - {i, j}\n",
    "\n",
    "some_sum(solve_some_sum)"
   ]
  },
  {
   "cell_type": "code",
   "execution_count": 127,
   "metadata": {},
   "outputs": [],
   "source": [
    "def funcs(how, dee, doo):\n",
    "    return how(dee) == doo and how(dee(doo)) == dee and dee != doo"
   ]
  },
  {
   "cell_type": "code",
   "execution_count": 128,
   "metadata": {},
   "outputs": [
    {
     "data": {
      "text/plain": [
       "True"
      ]
     },
     "execution_count": 128,
     "metadata": {},
     "output_type": "execute_result"
    }
   ],
   "source": [
    "def how(x):\n",
    "    return 1 if x is dee else dee\n",
    "\n",
    "def dee(x):\n",
    "    return x\n",
    "\n",
    "funcs(how, dee, 1)"
   ]
  },
  {
   "cell_type": "code",
   "execution_count": 129,
   "metadata": {},
   "outputs": [],
   "source": [
    "def string_math(x: str, y: str):\n",
    "    return x in y and y[1::2] in x and y not in x"
   ]
  },
  {
   "cell_type": "code",
   "execution_count": 130,
   "metadata": {},
   "outputs": [
    {
     "data": {
      "text/plain": [
       "True"
      ]
     },
     "execution_count": 130,
     "metadata": {},
     "output_type": "execute_result"
    }
   ],
   "source": [
    "string_math(\"\", \"0\")"
   ]
  },
  {
   "cell_type": "code",
   "execution_count": 131,
   "metadata": {},
   "outputs": [],
   "source": [
    "def non_alpabet(src: str):\n",
    "    return eval(src) == \"alpabet\" and not set(src).intersection(\"alpabet\")"
   ]
  },
  {
   "cell_type": "code",
   "execution_count": 132,
   "metadata": {},
   "outputs": [
    {
     "data": {
      "text/plain": [
       "True"
      ]
     },
     "execution_count": 132,
     "metadata": {},
     "output_type": "execute_result"
    }
   ],
   "source": [
    "non_alpabet(\"''.join(chr(i) for i in [97, 108, 112, 97, 98, 101, 116])\")"
   ]
  },
  {
   "cell_type": "code",
   "execution_count": 133,
   "metadata": {},
   "outputs": [],
   "source": [
    "def non_alphabet(src: str):\n",
    "    return eval(src) == \"alphabet\" and not set(src).intersection(\"alphabet\")"
   ]
  },
  {
   "cell_type": "code",
   "execution_count": 134,
   "metadata": {},
   "outputs": [
    {
     "data": {
      "text/plain": [
       "True"
      ]
     },
     "execution_count": 134,
     "metadata": {},
     "output_type": "execute_result"
    }
   ],
   "source": [
    "non_alphabet(\"\\\"\\\\x61\\\\x6c\\\\x70\\\\x68\\\\x61\\\\x62\\\\x65\\\\x74\\\"\")"
   ]
  },
  {
   "cell_type": "code",
   "execution_count": 135,
   "metadata": {},
   "outputs": [],
   "source": [
    "def sum_party(li: List[int]):\n",
    "    return sum(li) % 999 == 0 and \"\".join(str(n) for n in li) == \"31235423525127213785634634124712471243\""
   ]
  },
  {
   "cell_type": "code",
   "execution_count": 136,
   "metadata": {},
   "outputs": [
    {
     "data": {
      "text/plain": [
       "True"
      ]
     },
     "execution_count": 136,
     "metadata": {},
     "output_type": "execute_result"
    }
   ],
   "source": [
    "def solve_sum_party(target = \"31235423525127213785634634124712471243\"):\n",
    "    sols = [{0: []}]\n",
    "    for i in range(1, len(target)+1):\n",
    "        sols.append({((k + int(target[j:i])) % 999): (s + [int(target[j:i])]) for j in range(i) for k, s in sols[j].items()})\n",
    "    return sols[-1][0]\n",
    "\n",
    "sum_party(solve_sum_party())"
   ]
  },
  {
   "cell_type": "code",
   "execution_count": 137,
   "metadata": {},
   "outputs": [],
   "source": [
    "def kerfuffle(x: List[int]):\n",
    "    return set(x) == set(range(100)) and all([y <= x[i] for i in range(1, len(x)) for y in x[::i]])"
   ]
  },
  {
   "cell_type": "code",
   "execution_count": 138,
   "metadata": {},
   "outputs": [
    {
     "data": {
      "text/plain": [
       "True"
      ]
     },
     "execution_count": 138,
     "metadata": {},
     "output_type": "execute_result"
    }
   ],
   "source": [
    "kerfuffle([0] + list(range(99, 0, -1)))"
   ]
  },
  {
   "cell_type": "code",
   "execution_count": 139,
   "metadata": {},
   "outputs": [],
   "source": [
    "from typing import List\n",
    "def something(x: List[int]):\n",
    "    return all([x[:round(len(x) / 2 - 0.1)] == list(reversed(x[round(len(x) / 2 + 0.1):])), all([i > 0 for i in x]), sum(x) == 11, x[1] == 2])"
   ]
  },
  {
   "cell_type": "code",
   "execution_count": 140,
   "metadata": {},
   "outputs": [
    {
     "data": {
      "text/plain": [
       "True"
      ]
     },
     "execution_count": 140,
     "metadata": {},
     "output_type": "execute_result"
    }
   ],
   "source": [
    "something([1, 2, 2, 1 , 2, 2, 1])"
   ]
  },
  {
   "cell_type": "code",
   "execution_count": 141,
   "metadata": {},
   "outputs": [],
   "source": [
    "# Puzzle aim: Provide numbers which are palindromic in both\n",
    "# binary and decimal representations\n",
    "# E.g.: 73 in binary is palindromic (0b1001001) but not in decimal\n",
    "def isPalindrome(x: int):\n",
    "  assert x > 0\n",
    "  return isBinPalindrome(x) and isDecPalindrome(x)\n",
    "\n",
    "def isBinPalindrome(x): \n",
    "    left = 1\n",
    "    right = x.bit_length()\n",
    "    while (left < right): \n",
    "        if (((x & (1 << (left - 1))) != 0) != ((x & (1 << (right - 1))) != 0)): \n",
    "            return False\n",
    "        left += 1\n",
    "        right -= 1\n",
    "      \n",
    "    return True\n",
    "\n",
    "def isDecPalindrome(x):\n",
    "  if x < 0:\n",
    "    return False\n",
    "  elif x < 10:\n",
    "    return True\n",
    "  else:\n",
    "    return str(x) == str(x)[::-1]"
   ]
  },
  {
   "cell_type": "code",
   "execution_count": 142,
   "metadata": {},
   "outputs": [
    {
     "data": {
      "text/plain": [
       "True"
      ]
     },
     "execution_count": 142,
     "metadata": {},
     "output_type": "execute_result"
    }
   ],
   "source": [
    "isPalindrome(313)"
   ]
  },
  {
   "cell_type": "code",
   "execution_count": 143,
   "metadata": {},
   "outputs": [],
   "source": [
    "def two_sum(f: Callable[[List[int], int], int]):\n",
    "    import random\n",
    "    nums = [random.random() for _ in range(100)]\n",
    "    s = sum(random.sample(nums, 2))\n",
    "    i, j = f(nums[:], s)\n",
    "    return nums[i] + nums[j] == s\n"
   ]
  },
  {
   "cell_type": "code",
   "execution_count": 144,
   "metadata": {},
   "outputs": [
    {
     "data": {
      "text/plain": [
       "True"
      ]
     },
     "execution_count": 144,
     "metadata": {},
     "output_type": "execute_result"
    }
   ],
   "source": [
    "def solve_two_sum(nums: List, target: int):\n",
    "    inv_map = {}\n",
    "    for i, n in enumerate(nums):\n",
    "        inv_map[n] = i\n",
    "        if target - n in inv_map:\n",
    "            return i, inv_map[target - n]\n",
    "\n",
    "\n",
    "two_sum(solve_two_sum)"
   ]
  },
  {
   "cell_type": "code",
   "execution_count": 145,
   "metadata": {},
   "outputs": [],
   "source": [
    "def one_line_factorial(src: str):\n",
    "    import random\n",
    "    def fact(n):\n",
    "        ans = 1\n",
    "        for i in range(n):\n",
    "            ans *= i + 1\n",
    "        return ans\n",
    "\n",
    "    f = eval(src)  # a lambda expression for factorial?\n",
    "\n",
    "    tests = [random.randrange(1000) for _ in range(10)] + [10000]\n",
    "    return all([f(n) == fact(n) for n in tests])"
   ]
  },
  {
   "cell_type": "code",
   "execution_count": 146,
   "metadata": {},
   "outputs": [
    {
     "data": {
      "text/plain": [
       "True"
      ]
     },
     "execution_count": 146,
     "metadata": {},
     "output_type": "execute_result"
    }
   ],
   "source": [
    "from functools import reduce\n",
    "\n",
    "one_line_factorial(\"lambda n: reduce(lambda x,y:x*y,range(1,n+1))\")"
   ]
  },
  {
   "cell_type": "code",
   "execution_count": 147,
   "metadata": {},
   "outputs": [],
   "source": [
    "def fast_max_freq(f):\n",
    "    \"\"\"quickly find the count of the most frequent item in a list\"\"\"\n",
    "    import random\n",
    "    from time import perf_counter\n",
    "    pool = [random.random() for _ in range(10 ** 3)]  # pick 1k random numbers\n",
    "    li = [random.choice(pool) for _ in range(10 ** 4)]  # 10k random draws from pool\n",
    "\n",
    "    slow_start = perf_counter()\n",
    "    max_freq = max([li.count(x) for x in pool])\n",
    "    slow_duration = perf_counter() - slow_start\n",
    "\n",
    "    start = perf_counter()\n",
    "    ans = f(li)\n",
    "    duration = perf_counter() - start\n",
    "\n",
    "    return ans == max_freq and duration < slow_duration / 20"
   ]
  },
  {
   "cell_type": "code",
   "execution_count": 148,
   "metadata": {},
   "outputs": [
    {
     "data": {
      "text/plain": [
       "True"
      ]
     },
     "execution_count": 148,
     "metadata": {},
     "output_type": "execute_result"
    }
   ],
   "source": [
    "def max_freq(li):\n",
    "    counts = {r: 0 for r in li}\n",
    "    for r in li:\n",
    "        counts[r] += 1\n",
    "    return max(counts.values())\n",
    "\n",
    "fast_max_freq(max_freq)"
   ]
  },
  {
   "cell_type": "code",
   "execution_count": null,
   "metadata": {},
   "outputs": [],
   "source": []
  }
 ],
 "metadata": {
  "kernelspec": {
   "display_name": "Python 3",
   "language": "python",
   "name": "python3"
  },
  "language_info": {
   "codemirror_mode": {
    "name": "ipython",
    "version": 3
   },
   "file_extension": ".py",
   "mimetype": "text/x-python",
   "name": "python",
   "nbconvert_exporter": "python",
   "pygments_lexer": "ipython3",
   "version": "3.6.13"
  }
 },
 "nbformat": 4,
 "nbformat_minor": 2
}