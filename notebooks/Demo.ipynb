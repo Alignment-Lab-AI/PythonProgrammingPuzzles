{
 "cells": [
  {
   "cell_type": "code",
   "execution_count": null,
   "metadata": {
    "deletable": false
   },
   "outputs": [],
   "source": [
    "# Please run this cell first.\n",
    "from demo.demo import next_puzzle, cur_puzzle, puzzle, give_up"
   ]
  },
  {
   "cell_type": "markdown",
   "metadata": {},
   "source": [
    "# Instructions\n",
    "\n",
    "* This notebook is a demo simulating the study used for the [Programming Puzzles](https://arxiv.org/abs/2106.05784) paper (with some modifications to run locally).\n",
    "* Visit our repository to explore the full dataset and contribute new puzzles: https://github.com/microsoft/PythonProgrammingPuzzles \n",
    "\n",
    "## Overview\n",
    "\n",
    "\n",
    "* The first 3 problems are \"practice\" and the time you take will not be counted. This is a good chance to see how the system works.\n",
    "* Puzzles are defined by `def puzzle(...)`. For each puzzle, you will try to find an input `x` which makes `puzzle(x)` return `True`.\n",
    "* Type `next_puzzle()` when you are ready to start the first problem or to advance to the next problem.\n",
    "* There is **no option to revisit a puzzle** and once you call `next_puzzle()` the clock starts ticking (you have up to 6 minutes per puzzle).\n",
    "* **If you get lost, call `cur_puzzle()`** to see the current puzzle you are on (and time bar).\n",
    "\n",
    "## Timing\n",
    "\n",
    "* You have up to 6 minutes for each puzzle.\n",
    "* If you do not solve a problem in **6 minutes**, move to the next puzzle by typing `next_puzzle()`.\n",
    "* If you would like to give up and skip to the next puzzle without waiting, you can call `give_up()`.\n",
    "\n",
    "\n",
    "## Possible issues and contact details\n",
    "\n",
    "* Remember to use `cur_puzzle()` if you lost the code of the current puzzle.\n",
    "\n",
    "\n",
    "## Summary of functions\n",
    "\n",
    "| Function             \t| Description                                                                              \t|\n",
    "|:----------------------\t|:------------------------------------------------------------------------------------------\t|\n",
    "|`next_puzzle()`        \t| Start the next puzzle (call only when you are ready to start! no revisiting)             \t|\n",
    "|`cur_puzzle()`         \t| Present the current puzzle (useful if you got lost or accidentally overridden `puzzle()`) \t|\n",
    "|`puzzle(...)`          \t| Submit a solution to the current puzzle                                                  \t|\n",
    "|`give_up()`          \t| Give up and skip to the next puzzle *before* 6 minutes have passed. Please avoid this option if possible. |"
   ]
  },
  {
   "cell_type": "code",
   "execution_count": null,
   "metadata": {},
   "outputs": [],
   "source": [
    "# The first 3 puzzles are warmup. Begin the warmup part by running this cell.\n",
    "\n",
    "next_puzzle()"
   ]
  },
  {
   "cell_type": "code",
   "execution_count": null,
   "metadata": {},
   "outputs": [],
   "source": [
    "# Solve the first puzzle by running this cell.\n",
    "\n",
    "puzzle(\"world\")"
   ]
  },
  {
   "cell_type": "code",
   "execution_count": null,
   "metadata": {},
   "outputs": [],
   "source": [
    "# when you are ready to continue, run this cell.\n",
    "\n",
    "next_puzzle()"
   ]
  },
  {
   "cell_type": "code",
   "execution_count": null,
   "metadata": {},
   "outputs": [],
   "source": [
    "# You're on your own. Have fun.\n"
   ]
  }
 ],
 "metadata": {
  "kernelspec": {
   "display_name": "Python 3",
   "language": "python",
   "name": "python3"
  },
  "language_info": {
   "codemirror_mode": {
    "name": "ipython",
    "version": 3
   },
   "file_extension": ".py",
   "mimetype": "text/x-python",
   "name": "python",
   "nbconvert_exporter": "python",
   "pygments_lexer": "ipython3",
   "version": "3.8.8"
  }
 },
 "nbformat": 4,
 "nbformat_minor": 4
}
